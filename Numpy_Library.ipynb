{
  "nbformat": 4,
  "nbformat_minor": 0,
  "metadata": {
    "colab": {
      "provenance": []
    },
    "kernelspec": {
      "name": "python3",
      "display_name": "Python 3"
    },
    "language_info": {
      "name": "python"
    }
  },
  "cells": [
    {
      "cell_type": "markdown",
      "source": [
        "Python Learnings' -- Numpy Tutorial\n",
        "\n",
        "NumPy is a core Python library for numerical computing, built for handling large arrays and matrices efficiently.\n",
        "\n",
        "ndarray object – Stores homogeneous data in n-dimensional arrays for fast processing.\n",
        "Vectorized operations – Perform element-wise calculations without explicit loops.\n",
        "Broadcasting – Apply operations across arrays of different shapes.\n",
        "Linear algebra functions – Matrix multiplication, inversion, eigenvalues, etc.\n",
        "Statistical tools – Mean, median, standard deviation, and more.\n",
        "Fourier transforms – Fast computation for signal and image processing.\n",
        "Integration with other libraries – Works seamlessly with Pandas, SciPy, and scikit-learn.\n",
        "\n",
        "Important Facts to Know :\n",
        "\n",
        "NumPy arrays are homogeneous, meaning all elements must be the same type, allowing efficient computation.\n",
        "Vectorized operations in NumPy can be 10 to 100 times faster than equivalent Python loops.\n",
        "\n",
        "What is NumPy Used for?\n",
        "With NumPy, you can perform a wide range of numerical operations, including:\n",
        "\n",
        "Creating and manipulating arrays.\n",
        "Performing element-wise and matrix operations.\n",
        "Generating random numbers and statistical calculations.\n",
        "Conducting linear algebra operations.\n",
        "Working with Fourier transformations.\n",
        "Handling missing values efficiently in datasets.\n",
        "Why Learn NumPy?\n",
        "NumPy speeds up math operations like addition and multiplication on large groups of numbers compared to regular Python..\n",
        "It’s good for handling large lists of numbers (arrays), so you don’t have to write complicated loops.\n",
        "It gives ready-to-use functions for statistics, algebra and random numbers.\n",
        "Libraries like Pandas, SciPy, TensorFlow and many others are built on top of NumPy.\n",
        "NumPy uses less memory and stores data more efficiently, which matters when working with lots of data.\n",
        "NumPy Basics\n",
        "This section covers the fundamentals of NumPy, including installation, importing the library and understanding its core functionalities. You will learn about the advantages of NumPy over Python lists and how to set up your environment for efficient numerical computing."
      ],
      "metadata": {
        "id": "HQG2aGmEkWLJ"
      }
    },
    {
      "cell_type": "code",
      "execution_count": null,
      "metadata": {
        "id": "wZaARm6pzEIo"
      },
      "outputs": [],
      "source": []
    },
    {
      "cell_type": "code",
      "source": [],
      "metadata": {
        "id": "1jG61iTFkU9r"
      },
      "execution_count": null,
      "outputs": []
    },
    {
      "cell_type": "code",
      "source": [],
      "metadata": {
        "id": "WXfdn6RRkU7c"
      },
      "execution_count": null,
      "outputs": []
    },
    {
      "cell_type": "code",
      "source": [
        "pip install numpy\n"
      ],
      "metadata": {
        "colab": {
          "base_uri": "https://localhost:8080/"
        },
        "id": "VLvXe77qkU5Q",
        "outputId": "57e4afe6-4e8a-4fbe-8801-a5cd67b36433"
      },
      "execution_count": 2,
      "outputs": [
        {
          "output_type": "stream",
          "name": "stdout",
          "text": [
            "Requirement already satisfied: numpy in /usr/local/lib/python3.12/dist-packages (2.0.2)\n"
          ]
        }
      ]
    },
    {
      "cell_type": "code",
      "source": [
        "import numpy as np"
      ],
      "metadata": {
        "id": "Et3pWFfzkU28"
      },
      "execution_count": 3,
      "outputs": []
    },
    {
      "cell_type": "code",
      "source": [
        "# creating a 1 d array\n",
        "x = np.array([1, 2 , 6])\n",
        "print(x)\n",
        "print(type(x))\n",
        "\n",
        "# Creating a 2D array\n",
        "y = np.array([[1, 2], [3, 4]])\n",
        "print(y)\n",
        "\n",
        "# Creating a 3D array\n",
        "z = np.array([[[1, 2], [3, 4]], [[5, 6], [7, 8]]])\n",
        "print(z)"
      ],
      "metadata": {
        "colab": {
          "base_uri": "https://localhost:8080/"
        },
        "id": "dw_zQKZ9kU0q",
        "outputId": "987fe9c6-77b4-4322-d40a-4c8c1526e839"
      },
      "execution_count": 6,
      "outputs": [
        {
          "output_type": "stream",
          "name": "stdout",
          "text": [
            "[1 2 6]\n",
            "<class 'numpy.ndarray'>\n",
            "[[1 2]\n",
            " [3 4]]\n",
            "[[[1 2]\n",
            "  [3 4]]\n",
            "\n",
            " [[5 6]\n",
            "  [7 8]]]\n"
          ]
        }
      ]
    },
    {
      "cell_type": "markdown",
      "source": [
        "Using Numpy Functions: NumPy provides convenient methods to create arrays initialized with specific values like zeros and ones:"
      ],
      "metadata": {
        "id": "GYnMHbGdl8_A"
      }
    },
    {
      "cell_type": "code",
      "source": [
        "a = np.zeros((2,2))\n",
        "print(a)\n",
        "\n",
        "b = np.ones((2,2))\n",
        "print(b)\n",
        "\n",
        "c = np.arange(0, 10, 2)\n",
        "print(c)"
      ],
      "metadata": {
        "colab": {
          "base_uri": "https://localhost:8080/"
        },
        "id": "nObBEZFOkUyZ",
        "outputId": "f02752ac-bb01-4ddd-c456-91e9c433f1c8"
      },
      "execution_count": 10,
      "outputs": [
        {
          "output_type": "stream",
          "name": "stdout",
          "text": [
            "[[0. 0.]\n",
            " [0. 0.]]\n",
            "[[1. 1.]\n",
            " [1. 1.]]\n",
            "[0 2 4 6 8]\n"
          ]
        }
      ]
    },
    {
      "cell_type": "markdown",
      "source": [
        "NumPy Array Indexing\n",
        "Knowing the basics of NumPy array indexing is important for analyzing and manipulating the array object.\n",
        "\n",
        "Basic Indexing: Basic indexing in NumPy allows you to access elements of an array using indices."
      ],
      "metadata": {
        "id": "0txQArl6mi_d"
      }
    },
    {
      "cell_type": "code",
      "source": [
        "# Create a 1D array\n",
        "arr1d = np.array([10, 20, 30, 40, 50])\n",
        "\n",
        "# Single element access\n",
        "print(\"Single element access:\", arr1d[2])\n",
        "\n",
        "# Negative indexing\n",
        "print(\"Negative Indexing :\", arr1d[-1])\n",
        "\n",
        "# creating a multidimensional array\n",
        "arr2 = np.array([[1,2,3],[4,5,6],[7,8,9]])\n",
        "\n",
        "# Multidimensional array access\n",
        "print(\"Multidimensional array access:\" ,arr2[2,2])\n"
      ],
      "metadata": {
        "colab": {
          "base_uri": "https://localhost:8080/"
        },
        "id": "-l1M4frgkUwe",
        "outputId": "b97d430d-d28a-4200-fc6e-d1f410e1968a"
      },
      "execution_count": 17,
      "outputs": [
        {
          "output_type": "stream",
          "name": "stdout",
          "text": [
            "Single element access: 30\n",
            "Negative Indexing : 50\n",
            "Multidimensional array access: 9\n"
          ]
        }
      ]
    },
    {
      "cell_type": "markdown",
      "source": [
        "Slicing: Just like lists in Python, NumPy arrays can be sliced. As arrays can be multidimensional, you need to specify a slice for each dimension of the array."
      ],
      "metadata": {
        "id": "H3tahlDAnfwj"
      }
    },
    {
      "cell_type": "code",
      "source": [
        "\n",
        "arr = np.array([[1, 2, 3], [4, 5, 6]])\n",
        "#elements from index 1 to 3\n",
        "print(\"Range of Elements:\",arr[1:4])\n",
        "\n",
        "#all rows, second column\n",
        "print(\"Range of all rows in second column :\",arr [:,1])"
      ],
      "metadata": {
        "colab": {
          "base_uri": "https://localhost:8080/"
        },
        "id": "59x5hzI2kUuO",
        "outputId": "dcb0a79a-36e4-420c-b53a-fd476bd01cc0"
      },
      "execution_count": 21,
      "outputs": [
        {
          "output_type": "stream",
          "name": "stdout",
          "text": [
            "Range of Elements: [[4 5 6]]\n",
            "Range of all rows in second column : [2 5]\n"
          ]
        }
      ]
    },
    {
      "cell_type": "markdown",
      "source": [
        "NumPy Basic Operations\n",
        "Element-wise operations in NumPy allow you to perform mathematical operations on each element of an array individually, without the need for explicit loops.\n",
        "\n",
        "Element-wise Operations: We can perform arithmetic operations like addition, subtraction, multiplication, and division directly on NumPy arrays."
      ],
      "metadata": {
        "id": "q0ZKW3uloUAS"
      }
    },
    {
      "cell_type": "code",
      "source": [
        "x = np.array([1, 2, 3])\n",
        "y = np.array([4, 5, 6])\n",
        "\n",
        "# Addition\n",
        "add = x + y\n",
        "print(\"Addition:\",add)\n",
        "\n",
        "# Subtraction\n",
        "subtract = x - y\n",
        "print(\"substration:\",subtract)\n",
        "\n",
        "# Multiplication\n",
        "multiply = x * y\n",
        "print(\"multiplication:\",multiply)\n",
        "\n",
        "# Division\n",
        "divide = x / y\n",
        "print(\"division:\", divide)"
      ],
      "metadata": {
        "colab": {
          "base_uri": "https://localhost:8080/"
        },
        "id": "VGEyBF77kUr9",
        "outputId": "59900991-8ab2-465e-8247-a3ecd5431924"
      },
      "execution_count": 22,
      "outputs": [
        {
          "output_type": "stream",
          "name": "stdout",
          "text": [
            "Addition: [5 7 9]\n",
            "substration: [-3 -3 -3]\n",
            "multiplication: [ 4 10 18]\n",
            "division: [0.25 0.4  0.5 ]\n"
          ]
        }
      ]
    },
    {
      "cell_type": "markdown",
      "source": [
        "Unary Operation: These operations are applied to each individual element in the array, without the need for multiple arrays (as in binary operations)."
      ],
      "metadata": {
        "id": "zya08P5Comwt"
      }
    },
    {
      "cell_type": "code",
      "source": [
        "# Example array with both positive and negative values\n",
        "arr = np.array([-3, -1, 0, 1, 3])\n",
        "\n",
        "# Applying a unary operation: absolute value\n",
        "result = np.absolute(arr)\n",
        "print(\"Absolute value:\", result)"
      ],
      "metadata": {
        "colab": {
          "base_uri": "https://localhost:8080/"
        },
        "id": "-Se3inHFkUp7",
        "outputId": "b1c1b823-dc68-436a-cdd8-fd34008267b5"
      },
      "execution_count": 23,
      "outputs": [
        {
          "output_type": "stream",
          "name": "stdout",
          "text": [
            "Absolute value: [3 1 0 1 3]\n"
          ]
        }
      ]
    },
    {
      "cell_type": "markdown",
      "source": [
        "Binary Operators: Numpy Binary Operations apply to the array elementwise and a new array is created. We can use all basic arithmetic operators like +, -, /,  etc. In the case of +=, -=, = operators, the existing array is modified.\n"
      ],
      "metadata": {
        "id": "TsfU4wfHouQa"
      }
    },
    {
      "cell_type": "code",
      "source": [
        " # Two example arrays\n",
        "arr1 = np.array([1, 2, 3])\n",
        "arr2 = np.array([4, 5, 6])\n",
        "\n",
        "# Applying a binary operation: addition\n",
        "result = np.add(arr1, arr2)\n",
        "\n",
        "print(\"Array 1:\", arr1)\n",
        "print(\"Array 2:\", arr2)\n",
        "print(\"Addition Result:\", result)"
      ],
      "metadata": {
        "colab": {
          "base_uri": "https://localhost:8080/"
        },
        "id": "X0XjtLjIkUnl",
        "outputId": "37b3ae1c-801a-48c2-90d4-462a972b5f6c"
      },
      "execution_count": 24,
      "outputs": [
        {
          "output_type": "stream",
          "name": "stdout",
          "text": [
            "Array 1: [1 2 3]\n",
            "Array 2: [4 5 6]\n",
            "Addition Result: [5 7 9]\n"
          ]
        }
      ]
    },
    {
      "cell_type": "markdown",
      "source": [
        "NumPy ufuncs\n",
        "NumPy provides familiar mathematical functions such as sin, cos, exp, etc. These functions also operate elementwise on an array, producing an array as output."
      ],
      "metadata": {
        "id": "ppzpk26wpZh5"
      }
    },
    {
      "cell_type": "code",
      "source": [
        "# create an array of sine values\n",
        "a = np.array([0, np.pi/2, np.pi])\n",
        "print (\"Sine values of array elements:\", np.sin(a))\n",
        "\n",
        "# exponential values\n",
        "a = np.array([0, 1, 2, 3])\n",
        "print (\"Exponent of array elements:\", np.exp(a))\n",
        "\n",
        "# square root of array values\n",
        "print (\"Square root of array elements:\", np.sqrt(a))"
      ],
      "metadata": {
        "colab": {
          "base_uri": "https://localhost:8080/"
        },
        "id": "bJpmRhGgkUll",
        "outputId": "8e8a04c4-86f7-481e-8817-e6d862d37c9c"
      },
      "execution_count": 25,
      "outputs": [
        {
          "output_type": "stream",
          "name": "stdout",
          "text": [
            "Sine values of array elements: [0.0000000e+00 1.0000000e+00 1.2246468e-16]\n",
            "Exponent of array elements: [ 1.          2.71828183  7.3890561  20.08553692]\n",
            "Square root of array elements: [0.         1.         1.41421356 1.73205081]\n"
          ]
        }
      ]
    },
    {
      "cell_type": "markdown",
      "source": [
        "NumPy Sorting Arrays\n",
        "We can use a simple np.sort() method for sorting Python NumPy arrays."
      ],
      "metadata": {
        "id": "1OnKjjwVp6fi"
      }
    },
    {
      "cell_type": "code",
      "source": [
        "# set alias names for dtypes\n",
        "dtypes = [('name', 'S10'), ('grad_year', int), ('cgpa', float)]\n",
        "\n",
        "# Values to be put in array\n",
        "values = [('Hrithik', 2009, 8.5), ('Ajay', 2008, 8.7),\n",
        "           ('Pankaj', 2008, 7.9), ('Aakash', 2009, 9.0)]\n",
        "\n",
        "# Creating array\n",
        "arr = np.array(values, dtype = dtypes)\n",
        "print (\"\\nArray sorted by names:\\n\",\n",
        "            np.sort(arr, order = 'name'))\n",
        "\n",
        "print (\"Array sorted by graduation year and then cgpa:\\n\",\n",
        "                np.sort(arr, order = ['grad_year', 'cgpa']))"
      ],
      "metadata": {
        "colab": {
          "base_uri": "https://localhost:8080/"
        },
        "id": "LVvVZuF3kUjB",
        "outputId": "c5174a19-e752-4d73-810a-6c0dfe150299"
      },
      "execution_count": 26,
      "outputs": [
        {
          "output_type": "stream",
          "name": "stdout",
          "text": [
            "\n",
            "Array sorted by names:\n",
            " [(b'Aakash', 2009, 9. ) (b'Ajay', 2008, 8.7) (b'Hrithik', 2009, 8.5)\n",
            " (b'Pankaj', 2008, 7.9)]\n",
            "Array sorted by graduation year and then cgpa:\n",
            " [(b'Pankaj', 2008, 7.9) (b'Ajay', 2008, 8.7) (b'Hrithik', 2009, 8.5)\n",
            " (b'Aakash', 2009, 9. )]\n"
          ]
        }
      ]
    },
    {
      "cell_type": "code",
      "source": [],
      "metadata": {
        "id": "4LQJAd7EkUg1"
      },
      "execution_count": null,
      "outputs": []
    },
    {
      "cell_type": "code",
      "source": [],
      "metadata": {
        "id": "3urMP8lbkUTn"
      },
      "execution_count": null,
      "outputs": []
    },
    {
      "cell_type": "code",
      "source": [],
      "metadata": {
        "id": "plDoyl3xkUPQ"
      },
      "execution_count": null,
      "outputs": []
    },
    {
      "cell_type": "code",
      "source": [],
      "metadata": {
        "id": "xsoom_2akUMJ"
      },
      "execution_count": null,
      "outputs": []
    },
    {
      "cell_type": "markdown",
      "source": [],
      "metadata": {
        "id": "41ormQF6kTBt"
      }
    }
  ]
}